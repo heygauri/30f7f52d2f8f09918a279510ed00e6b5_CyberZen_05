{
  "nbformat": 4,
  "nbformat_minor": 0,
  "metadata": {
    "colab": {
      "provenance": []
    },
    "kernelspec": {
      "name": "python3",
      "display_name": "Python 3"
    },
    "language_info": {
      "name": "python"
    }
  },
  "cells": [
    {
      "cell_type": "markdown",
      "source": [],
      "metadata": {
        "id": "sfBKGZ6_HI7k"
      }
    },
    {
      "cell_type": "code",
      "source": [
        "!apt-get install tesseract-ocr\n"
      ],
      "metadata": {
        "colab": {
          "base_uri": "https://localhost:8080/"
        },
        "id": "DXKT7kJ_HKVd",
        "outputId": "f8a9793c-24ac-43c3-d8cb-1758cc233e94"
      },
      "execution_count": 2,
      "outputs": [
        {
          "output_type": "stream",
          "name": "stdout",
          "text": [
            "Reading package lists... Done\n",
            "Building dependency tree... Done\n",
            "Reading state information... Done\n",
            "tesseract-ocr is already the newest version (4.1.1-2.1build1).\n",
            "0 upgraded, 0 newly installed, 0 to remove and 24 not upgraded.\n"
          ]
        }
      ]
    },
    {
      "cell_type": "code",
      "source": [
        "!pip install pytesseract"
      ],
      "metadata": {
        "colab": {
          "base_uri": "https://localhost:8080/"
        },
        "id": "CH3_zrvnHg68",
        "outputId": "8aa16f5e-776f-40ac-a63f-735868dffd49"
      },
      "execution_count": 3,
      "outputs": [
        {
          "output_type": "stream",
          "name": "stdout",
          "text": [
            "Collecting pytesseract\n",
            "  Downloading pytesseract-0.3.10-py3-none-any.whl (14 kB)\n",
            "Requirement already satisfied: packaging>=21.3 in /usr/local/lib/python3.10/dist-packages (from pytesseract) (23.2)\n",
            "Requirement already satisfied: Pillow>=8.0.0 in /usr/local/lib/python3.10/dist-packages (from pytesseract) (9.4.0)\n",
            "Installing collected packages: pytesseract\n",
            "Successfully installed pytesseract-0.3.10\n"
          ]
        }
      ]
    },
    {
      "cell_type": "code",
      "source": [
        "!pip install pillow"
      ],
      "metadata": {
        "colab": {
          "base_uri": "https://localhost:8080/"
        },
        "id": "PspEhE5aHsqj",
        "outputId": "f88236b8-4ec1-4477-8420-2d047a06a039"
      },
      "execution_count": 4,
      "outputs": [
        {
          "output_type": "stream",
          "name": "stdout",
          "text": [
            "Requirement already satisfied: pillow in /usr/local/lib/python3.10/dist-packages (9.4.0)\n"
          ]
        }
      ]
    },
    {
      "cell_type": "code",
      "source": [
        "# Install Tesseract OCR in Colab\n",
        "!apt-get install tesseract-ocr\n",
        "\n",
        "from PIL import Image\n",
        "from pytesseract import pytesseract\n",
        "\n",
        "# Define the path to the Tesseract executable in Colab\n",
        "path_to_tesseract = r'/usr/bin/tesseract'\n",
        "\n",
        "# Define the path to the image in Colab (adjust the path as needed)\n",
        "image_path = '/content/5.jpg'\n",
        "\n",
        "# Opening the image & storing it in an image object\n",
        "img = Image.open(image_path)\n",
        "\n",
        "# Providing the Tesseract executable location to pytesseract library\n",
        "pytesseract.tesseract_cmd = path_to_tesseract\n",
        "\n",
        "# Passing the image object to image_to_string() function\n",
        "# This function will extract the text from the image\n",
        "text = pytesseract.image_to_string(img)\n",
        "\n",
        "# Displaying the extracted text\n",
        "print(text.strip())\n"
      ],
      "metadata": {
        "colab": {
          "base_uri": "https://localhost:8080/"
        },
        "id": "f5KAS7LNfXHa",
        "outputId": "9a1edeb6-afc8-4e48-b6a0-b583d1a7a0e2"
      },
      "execution_count": 10,
      "outputs": [
        {
          "output_type": "stream",
          "name": "stdout",
          "text": [
            "Reading package lists... Done\n",
            "Building dependency tree... Done\n",
            "Reading state information... Done\n",
            "tesseract-ocr is already the newest version (4.1.1-2.1build1).\n",
            "0 upgraded, 0 newly installed, 0 to remove and 24 not upgraded.\n",
            "EXTRACT\n",
            "\n",
            "Text From\n",
            "\n",
            "() IMAGE\n"
          ]
        }
      ]
    },
    {
      "cell_type": "code",
      "source": [],
      "metadata": {
        "id": "yI5mathzq5gN"
      },
      "execution_count": null,
      "outputs": []
    },
    {
      "cell_type": "code",
      "source": [],
      "metadata": {
        "id": "Za3NHfI7re6j"
      },
      "execution_count": null,
      "outputs": []
    }
  ]
}